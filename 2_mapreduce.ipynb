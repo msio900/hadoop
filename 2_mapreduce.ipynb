{
 "cells": [
  {
   "attachments": {},
   "cell_type": "markdown",
   "metadata": {},
   "source": [
    "#### 맵 스크립트 예제"
   ]
  },
  {
   "cell_type": "code",
   "execution_count": 1,
   "metadata": {},
   "outputs": [],
   "source": [
    "#!/usr/bin/env python\n",
    "\n",
    "import re\n",
    "import sys\n",
    "\n",
    "for line in sys.stdin: \n",
    "    val = line.strip()\n",
    "    (year, temp, q) = (val[15:19], val[87:92], val[92:93])\n",
    "    if (temp != \"+9999\" and re.match(\"[01459]\", q)):\n",
    "        print (f\"{year}\\t{temp}\")"
   ]
  },
  {
   "attachments": {},
   "cell_type": "markdown",
   "metadata": {},
   "source": [
    "#### 리듀스 스크립트 예제"
   ]
  },
  {
   "cell_type": "code",
   "execution_count": 2,
   "metadata": {},
   "outputs": [],
   "source": [
    "#!/usr/bin/env python\n",
    "\n",
    "import sys\n",
    "\n",
    "(last_key, max_val) = (None,0)\n",
    "for line in sys.stdin:\n",
    "    (key, val) = line.strip().split(\"\\t\")\n",
    "    if last_key and last_key != key:\n",
    "        print(f\"{last_key}\\t{max_val}\")\n",
    "        (last_key, max_val) = (key, max(max_val, int(val)))\n",
    "    else:\n",
    "        (last_key, max_val) = (key, max(max_val, int(val)))\n",
    "\n",
    "if last_key:\n",
    "    print(f\"{last_key}\\t{max_val}\")\n"
   ]
  },
  {
   "cell_type": "code",
   "execution_count": 6,
   "metadata": {},
   "outputs": [
    {
     "name": "stdout",
     "output_type": "stream",
     "text": [
      "1950\t0.0\n",
      "1950\t2.2\n",
      "1950\t-1.1\n",
      "1949\t11.1\n",
      "1949\t7.8\n"
     ]
    }
   ],
   "source": [
    "# 직접 짜보는 맵퍼와 리듀서\n",
    "import re\n",
    "import sys\n",
    "\n",
    "f = open(\"./test//NDSC_sample.txt\", \"r\")\n",
    "f.close()\n",
    "\n",
    "with open(\"./test/NDSC_sample.txt\", \"r\") as f:\n",
    "    for line in f:\n",
    "        val = line.strip()\n",
    "        (year, temp, q) = (val[15:19], val[87:92], val[92:93])\n",
    "        if (temp != \"+9999\" and re.match(\"[01459]\", q)):\n",
    "            print (f\"{year}\\t{int(temp)/10}\")"
   ]
  },
  {
   "cell_type": "code",
   "execution_count": null,
   "metadata": {},
   "outputs": [],
   "source": []
  }
 ],
 "metadata": {
  "kernelspec": {
   "display_name": "Python 3",
   "language": "python",
   "name": "python3"
  },
  "language_info": {
   "codemirror_mode": {
    "name": "ipython",
    "version": 3
   },
   "file_extension": ".py",
   "mimetype": "text/x-python",
   "name": "python",
   "nbconvert_exporter": "python",
   "pygments_lexer": "ipython3",
   "version": "3.9.1"
  },
  "orig_nbformat": 4,
  "vscode": {
   "interpreter": {
    "hash": "59bbaddc8774a58068b18fdae96e6b193f12c3c8f1c014d2ef57f01851cdb20d"
   }
  }
 },
 "nbformat": 4,
 "nbformat_minor": 2
}
